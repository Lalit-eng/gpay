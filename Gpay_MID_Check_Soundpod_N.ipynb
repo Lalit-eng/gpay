{
  "nbformat": 4,
  "nbformat_minor": 0,
  "metadata": {
    "colab": {
      "provenance": [],
      "include_colab_link": true
    },
    "kernelspec": {
      "name": "python3",
      "display_name": "Python 3"
    },
    "language_info": {
      "name": "python"
    }
  },
  "cells": [
    {
      "cell_type": "markdown",
      "metadata": {
        "id": "view-in-github",
        "colab_type": "text"
      },
      "source": [
        "<a href=\"https://colab.research.google.com/github/Lalit-eng/gpay/blob/main/Gpay_MID_Check_Soundpod_N.ipynb\" target=\"_parent\"><img src=\"https://colab.research.google.com/assets/colab-badge.svg\" alt=\"Open In Colab\"/></a>"
      ]
    },
    {
      "cell_type": "code",
      "execution_count": null,
      "metadata": {
        "colab": {
          "base_uri": "https://localhost:8080/"
        },
        "id": "zJZNMR2-gpty",
        "outputId": "0a94f2ca-0701-43e9-a8bb-ba6b8909c24f"
      },
      "outputs": [
        {
          "output_type": "stream",
          "name": "stdout",
          "text": [
            "Requirement already satisfied: pyxlsb in /usr/local/lib/python3.11/dist-packages (1.0.10)\n",
            "Drive already mounted at /content/drive; to attempt to forcibly remount, call drive.mount(\"/content/drive\", force_remount=True).\n",
            "✅ Added: SP Master Feb'25.xlsb\n",
            "✅ Added: SP Master Mar'25.xlsb\n",
            "✅ Added: SP Master Feb'25.xlsx\n",
            "✅ Total files added: 3\n"
          ]
        }
      ],
      "source": [
        "!pip install pyxlsb\n",
        "\n",
        "import os\n",
        "import pandas as pd\n",
        "import sqlite3\n",
        "from google.colab import drive\n",
        "\n",
        "# Mount Google Drive\n",
        "drive.mount('/content/drive')\n",
        "\n",
        "# Set your folder path\n",
        "folder_path = '/content/drive/MyDrive/check'\n",
        "db_path = '/content/merged_data.db'\n",
        "\n",
        "# Connect to SQLite\n",
        "conn = sqlite3.connect(db_path)\n",
        "\n",
        "# Track added files\n",
        "files_added = 0\n",
        "\n",
        "for file in os.listdir(folder_path):\n",
        "    if file.endswith(('.xlsx', '.xls', '.xlsb')):\n",
        "        file_path = os.path.join(folder_path, file)\n",
        "        try:\n",
        "            # Read based on file type\n",
        "            if file.endswith('.xlsb'):\n",
        "                df = pd.read_excel(file_path, engine='pyxlsb')\n",
        "            else:\n",
        "                df = pd.read_excel(file_path)\n",
        "\n",
        "            # Normalize column names (lowercase and strip spaces)\n",
        "            df.columns = df.columns.str.strip().str.lower()\n",
        "\n",
        "            # Ensure the unique_id column exists (adjust name if needed)\n",
        "            if 'merchantexternalid' in df.columns:\n",
        "                df.to_sql('cases', conn, if_exists='append', index=False)\n",
        "                print(f\"✅ Added: {file}\")\n",
        "                files_added += 1\n",
        "            else:\n",
        "                print(f\"⚠️ Skipped {file}: 'unique_id' column not found.\")\n",
        "\n",
        "        except Exception as e:\n",
        "            print(f\"❌ Failed to read {file}: {e}\")\n",
        "\n",
        "print(f\"✅ Total files added: {files_added}\")"
      ]
    },
    {
      "cell_type": "code",
      "source": [
        "import sqlite3\n",
        "import pandas as pd\n",
        "\n",
        "# Define the unique ID to search for\n",
        "uid = input('Enter merchantexternalid-')\n",
        "\n",
        "# Reconnect to the DB if needed\n",
        "conn = sqlite3.connect('/content/merged_data.db')\n",
        "\n",
        "# Run the SQL query\n",
        "query = f\"SELECT * FROM cases WHERE merchantexternalid = '{uid}'\"\n",
        "result = pd.read_sql_query(query, conn)\n",
        "\n",
        "pd.set_option('display.max_columns', None)\n",
        "pd.set_option('display.expand_frame_repr', False)\n",
        "\n",
        "# Display results\n",
        "if result.empty:\n",
        "    print(\"❌ No record found with that unique ID.\")\n",
        "else:\n",
        "    print(\"✅ Record found:\")\n",
        "    print(result)  # Explicit print to control output\n",
        "\n",
        "# Close DB after query\n",
        "conn.close()\n"
      ],
      "metadata": {
        "id": "hwcY-v5qgrz8"
      },
      "execution_count": null,
      "outputs": []
    }
  ]
}